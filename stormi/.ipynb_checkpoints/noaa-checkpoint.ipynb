{
 "cells": [
  {
   "cell_type": "code",
   "execution_count": 1,
   "id": "1d99290d",
   "metadata": {},
   "outputs": [],
   "source": [
    "from pymongo import MongoClient\n",
    "from flask import Flask, request, jsonify\n",
    "import requests"
   ]
  },
  {
   "cell_type": "code",
   "execution_count": 4,
   "id": "19fb0f1d",
   "metadata": {},
   "outputs": [
    {
     "name": "stdout",
     "output_type": "stream",
     "text": [
      "['admin', 'classDB', 'config', 'epa', 'establishments', 'fruits_db', 'fruitsdb', 'local', 'met', 'petsitly_marketing', 'travel_db', 'uk_food', 'weather_database']\n"
     ]
    }
   ],
   "source": [
    "mongo = MongoClient(port=27017)\n",
    "print(mongo.list_database_names())"
   ]
  },
  {
   "cell_type": "code",
   "execution_count": null,
   "id": "deb77508",
   "metadata": {},
   "outputs": [],
   "source": [
    "mongo = MongoClient('mongodb://localhost:27017')\n",
    "db = mongo['weather_database']\n",
    "sanibel_phyto_data = db['sanibel_phyto_data']\n",
    "endpoint = 'https://api.stormglass.io/v2/bio/point'\n",
    "params = {\n",
    "            'lat': 26.443398,\n",
    "            'lng': -82.111511,\n",
    "            'params': 'phytoplankton'\n",
    "        }\n",
    "headers = {\n",
    "        'Authorization': 'f83644f0-b99c-11ee-b7a8-0242ac130002-f8364590-b99c-11ee-b7a8-0242ac130002'\n",
    "    }\n",
    "response = requests.get(endpoint, params=params, headers=headers)\n",
    "response.raise_for_status()\n",
    "data = response.json()\n",
    "sanibel_phyto_data.insert_one(data)\n",
    "if sanibel_phyto_data.count_documents({}) > 0:\n",
    "            print(\"Data inserted into sanibel_data collection.\")\n",
    "else:\n",
    "            print(\"Failed to insert data.\")\n",
    "            "
   ]
  }
 ],
 "metadata": {
  "kernelspec": {
   "display_name": "Python 3 (ipykernel)",
   "language": "python",
   "name": "python3"
  },
  "language_info": {
   "codemirror_mode": {
    "name": "ipython",
    "version": 3
   },
   "file_extension": ".py",
   "mimetype": "text/x-python",
   "name": "python",
   "nbconvert_exporter": "python",
   "pygments_lexer": "ipython3",
   "version": "3.11.5"
  }
 },
 "nbformat": 4,
 "nbformat_minor": 5
}
