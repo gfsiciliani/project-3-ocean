{
 "cells": [
  {
   "cell_type": "code",
   "execution_count": 134,
   "id": "0dcb261e",
   "metadata": {},
   "outputs": [],
   "source": [
    "from pymongo import MongoClient\n",
    "from flask import Flask, request, jsonify\n",
    "import json\n",
    "import requests\n",
    "import pandas as pd\n",
    "import csv"
   ]
  },
  {
   "cell_type": "code",
   "execution_count": 135,
   "id": "7b5e66ef",
   "metadata": {},
   "outputs": [
    {
     "name": "stdout",
     "output_type": "stream",
     "text": [
      "['admin', 'classDB', 'config', 'epa', 'establishments', 'fruits_db', 'fruitsdb', 'local', 'met', 'petsitly_marketing', 'player2_weather', 'travel_db', 'uk_food', 'weather_database']\n"
     ]
    }
   ],
   "source": [
    "mongo = MongoClient(port=27017)\n",
    "print(mongo.list_database_names())"
   ]
  },
  {
   "cell_type": "code",
   "execution_count": null,
   "id": "947f32a3",
   "metadata": {},
   "outputs": [],
   "source": [
    "# Define  filepath containing Stormglass API Key\n",
    "file_path = './keys/stormglass.txt'\n",
    "\n",
    "# Read the API key from the file\n",
    "with open(file_path, 'r') as file:\n",
    "    stormglass_api_key = file.read().strip()"
   ]
  },
  {
   "cell_type": "code",
   "execution_count": null,
   "id": "163f3939",
   "metadata": {},
   "outputs": [],
   "source": [
    "mongo = MongoClient('mongodb://localhost:27017')\n",
    "db = mongo['player2_weather']\n",
    "charleston_air = db['charleston_air']\n",
    "endpoint = 'https://api.stormglass.io/v2/weather/point'\n",
    "params = {\n",
    "            'lat': 26.443398,\n",
    "            'lng': -82.111511,\n",
    "            'params': 'airTemperature',\n",
    "            'start': '2023-09-23',\n",
    "            'end': '2023-09-30'\n",
    "            \n",
    "        }\n",
    "headers = {\n",
    "        'Authorization': stormglass_api_key\n",
    "    }\n",
    "response = requests.get(endpoint, params=params, headers=headers)\n",
    "response.raise_for_status()\n",
    "data = response.json()\n",
    "sanibel_air.insert_one(data)\n",
    "if sanibel_air.count_documents({}) > 0:\n",
    "    print(\"Data inserted into sanibel_data collection.\")\n",
    "else:\n",
    "    print(\"Failed to insert data.\")\n"
   ]
  },
  {
   "cell_type": "code",
   "execution_count": null,
   "id": "4d6395b6",
   "metadata": {},
   "outputs": [],
   "source": [
    "data = sanibel_air.find()\n",
    "for document in data:\n",
    "    pprint(document)"
   ]
  },
  {
   "cell_type": "code",
   "execution_count": null,
   "id": "c764aa03",
   "metadata": {},
   "outputs": [],
   "source": [
    "data = list(sanibel_air.find())\n",
    "pprint(data)\n",
    "json_data = json.dumps(data, default=str)\n",
    "with open('Resources/sanibel_air.json', 'w') as json_file:\n",
    "    json_file.write(json_data)"
   ]
  },
  {
   "cell_type": "code",
   "execution_count": null,
   "id": "e3091f7d",
   "metadata": {},
   "outputs": [],
   "source": [
    "mongo = MongoClient('mongodb://localhost:27017')\n",
    "db = mongo['player2_weather']\n",
    "charleston_air = db['charleston_air']\n",
    "endpoint = 'https://api.stormglass.io/v2/weather/point'\n",
    "params = {\n",
    "            'lat': 32.7765,\n",
    "            'lng': -79.93092,\n",
    "            'params': 'airTemperature',\n",
    "            'start': '2023-09-23',\n",
    "            'end': '2023-09-30'\n",
    "            \n",
    "        }\n",
    "headers = {\n",
    "        'Authorization': stormglass_api_key\n",
    "    }\n",
    "response = requests.get(endpoint, params=params, headers=headers)\n",
    "response.raise_for_status()\n",
    "data = response.json()\n",
    "charleston_air.insert_one(data)\n",
    "if charleston_air.count_documents({}) > 0:\n",
    "    print(\"Data inserted into charleston collection.\")\n",
    "else:\n",
    "    print(\"Failed to insert data.\")"
   ]
  },
  {
   "cell_type": "code",
   "execution_count": null,
   "id": "49dbf744",
   "metadata": {},
   "outputs": [],
   "source": [
    "data = charleston_air.find()\n",
    "for document in data:\n",
    "    pprint(document)"
   ]
  },
  {
   "cell_type": "code",
   "execution_count": null,
   "id": "e46379db",
   "metadata": {},
   "outputs": [],
   "source": [
    "data = list(charleston_air.find())\n",
    "pprint(data)\n",
    "json_data = json.dumps(data, default=str)\n",
    "with open('Resources/charleston_air.json', 'w') as json_file:\n",
    "    json_file.write(json_data)"
   ]
  },
  {
   "cell_type": "code",
   "execution_count": null,
   "id": "b134d54b",
   "metadata": {},
   "outputs": [],
   "source": [
    "data = charleston_air.find()\n",
    "for document in data:\n",
    "    pprint(document) "
   ]
  },
  {
   "cell_type": "code",
   "execution_count": null,
   "id": "ac4818f2",
   "metadata": {},
   "outputs": [],
   "source": [
    "data = charleston_air.find_one({}, {\"_id\": 0, \"hours\": 1})['hours']\n",
    "csv_file = 'Resources/chairtemps.csv'\n",
    "fields = ['time', 'airTemperature.noaa', 'airTemperature.sg']\n",
    "with open(csv_file, 'w', newline='') as csvfile:\n",
    "    writer = csv.writer(csvfile)\n",
    "    writer.writerow(fields)\n",
    "    \n",
    "    for entry in data:\n",
    "        row_data = [\n",
    "            entry['time'],\n",
    "            entry['airTemperature']['noaa'],\n",
    "            entry['airTemperature']['sg']\n",
    "        ]\n",
    "        writer.writerow(row_data)"
   ]
  },
  {
   "cell_type": "code",
   "execution_count": null,
   "id": "ca5150ed",
   "metadata": {},
   "outputs": [],
   "source": [
    "data = sanibel_air.find_one({}, {\"_id\": 0, \"hours\": 1})['hours']\n",
    "csv_file = 'Resources/sanibelairtemps.csv'\n",
    "fields = ['time', 'airTemperature.noaa', 'airTemperature.sg']\n",
    "with open(csv_file, 'w', newline='') as csvfile:\n",
    "    writer = csv.writer(csvfile)\n",
    "    writer.writerow(fields)\n",
    "    \n",
    "    for entry in data:\n",
    "        row_data = [\n",
    "            entry['time'],\n",
    "            entry['airTemperature']['noaa'],\n",
    "            entry['airTemperature']['sg']\n",
    "        ]\n",
    "        writer.writerow(row_data)"
   ]
  },
  {
   "cell_type": "code",
   "execution_count": 138,
   "id": "db7eac26",
   "metadata": {},
   "outputs": [
    {
     "ename": "KeyError",
     "evalue": "'hours'",
     "output_type": "error",
     "traceback": [
      "\u001b[0;31m---------------------------------------------------------------------------\u001b[0m",
      "\u001b[0;31mKeyError\u001b[0m                                  Traceback (most recent call last)",
      "Cell \u001b[0;32mIn[138], line 9\u001b[0m\n\u001b[1;32m      6\u001b[0m writer\u001b[38;5;241m.\u001b[39mwriterow(fields)\n\u001b[1;32m      8\u001b[0m \u001b[38;5;28;01mfor\u001b[39;00m item \u001b[38;5;129;01min\u001b[39;00m data:\n\u001b[0;32m----> 9\u001b[0m     \u001b[38;5;28;01mfor\u001b[39;00m entry \u001b[38;5;129;01min\u001b[39;00m item[\u001b[38;5;124m'\u001b[39m\u001b[38;5;124mhours\u001b[39m\u001b[38;5;124m'\u001b[39m]:\n\u001b[1;32m     10\u001b[0m         row_data \u001b[38;5;241m=\u001b[39m [\n\u001b[1;32m     11\u001b[0m             item[\u001b[38;5;124m'\u001b[39m\u001b[38;5;124m_id\u001b[39m\u001b[38;5;124m'\u001b[39m],\n\u001b[1;32m     12\u001b[0m             entry[\u001b[38;5;124m'\u001b[39m\u001b[38;5;124mtime\u001b[39m\u001b[38;5;124m'\u001b[39m],\n\u001b[1;32m     13\u001b[0m             entry[\u001b[38;5;124m'\u001b[39m\u001b[38;5;124mairTemperature\u001b[39m\u001b[38;5;124m'\u001b[39m][\u001b[38;5;124m'\u001b[39m\u001b[38;5;124mnoaa\u001b[39m\u001b[38;5;124m'\u001b[39m],\n\u001b[1;32m     14\u001b[0m             entry[\u001b[38;5;124m'\u001b[39m\u001b[38;5;124mairTemperature\u001b[39m\u001b[38;5;124m'\u001b[39m][\u001b[38;5;124m'\u001b[39m\u001b[38;5;124msg\u001b[39m\u001b[38;5;124m'\u001b[39m]\n\u001b[1;32m     15\u001b[0m         ]\n\u001b[1;32m     16\u001b[0m         writer\u001b[38;5;241m.\u001b[39mwriterow(row_data)\n",
      "\u001b[0;31mKeyError\u001b[0m: 'hours'"
     ]
    }
   ],
   "source": [
    "data = charleston_air.find({[1]}, {\"_id\": 0, \"hours\": 1})['hours']\n",
    "csv_file = 'Resources/chairtemps.csv'\n",
    "fields = ['time', 'airTemperature.noaa', 'airTemperature.sg']\n",
    "with open(csv_file, 'a', newline = '') as csvfile:\n",
    "    writer = csv.writer(csvfile)\n",
    "    writer.writerow(fields)\n",
    "    \n",
    "        for entry in item['hours']:\n",
    "            row_data = [\n",
    "                item['_id'],\n",
    "                entry['time'],\n",
    "                entry['airTemperature']['noaa'],\n",
    "                entry['airTemperature']['sg']\n",
    "            ]\n",
    "            writer.writerow(row_data)"
   ]
  },
  {
   "cell_type": "code",
   "execution_count": 156,
   "id": "f3619915",
   "metadata": {},
   "outputs": [],
   "source": [
    "with open('Resources/sanibel_air.json') as file:\n",
    "    data = json.load(file)\n",
    "\n",
    "# Access the second dataset by indexing the data list using [1]\n",
    "second_dataset = data[1]\n",
    "third_dataset = data[2]\n",
    "\n",
    "# Specify the CSV file path\n",
    "csv_file = 'Resources/sanibelairtemps.csv'\n",
    "\n",
    "# Define the header fields for your CSV file\n",
    "fields = ['time', 'airTemperature.noaa', 'airTemperature.sg']\n",
    "\n",
    "# Write the data from the second dataset to the CSV file\n",
    "with open(csv_file, 'a', newline='') as csvfile:\n",
    "    writer = csv.writer(csvfile)\n",
    "\n",
    "    # Write the header fields\n",
    "    writer.writerow(fields)\n",
    "    \n",
    "    # Iterate over the data in the \"hours\" field of the second dataset\n",
    "    for entry in third_dataset['hours']:\n",
    "        # Extract the required data from each entry\n",
    "        row_data = [\n",
    "            entry['time'],\n",
    "            entry['airTemperature']['noaa'],\n",
    "            entry['airTemperature']['sg']\n",
    "        ]\n",
    "        \n",
    "        # Write the row_data to the CSV file\n",
    "        writer.writerow(row_data)"
   ]
  },
  {
   "cell_type": "code",
   "execution_count": null,
   "id": "cb499878",
   "metadata": {},
   "outputs": [],
   "source": []
  }
 ],
 "metadata": {
  "kernelspec": {
   "display_name": "Python 3 (ipykernel)",
   "language": "python",
   "name": "python3"
  },
  "language_info": {
   "codemirror_mode": {
    "name": "ipython",
    "version": 3
   },
   "file_extension": ".py",
   "mimetype": "text/x-python",
   "name": "python",
   "nbconvert_exporter": "python",
   "pygments_lexer": "ipython3",
   "version": "3.11.5"
  }
 },
 "nbformat": 4,
 "nbformat_minor": 5
}
