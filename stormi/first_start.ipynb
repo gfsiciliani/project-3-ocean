{
 "cells": [
  {
   "cell_type": "code",
   "execution_count": null,
   "id": "0dcb261e",
   "metadata": {},
   "outputs": [],
   "source": [
    "from pymongo import MongoClient\n",
    "from flask import Flask, request, jsonify\n",
    "import json\n",
    "import requests\n",
    "import pandas as pd\n",
    "import csv"
   ]
  },
  {
   "cell_type": "code",
   "execution_count": null,
   "id": "7b5e66ef",
   "metadata": {},
   "outputs": [],
   "source": [
    "mongo = MongoClient(port=27017)\n",
    "print(mongo.list_database_names())"
   ]
  },
  {
   "cell_type": "code",
   "execution_count": null,
   "id": "947f32a3",
   "metadata": {},
   "outputs": [],
   "source": [
    "# Define  filepath containing Stormglass API Key\n",
    "file_path = './keys/stormglass.txt'\n",
    "\n",
    "# Read the API key from the file\n",
    "with open(file_path, 'r') as file:\n",
    "    stormglass_api_key = file.read().strip()"
   ]
  },
  {
   "cell_type": "code",
   "execution_count": null,
   "id": "163f3939",
   "metadata": {},
   "outputs": [],
   "source": [
    "mongo = MongoClient('mongodb://localhost:27017')\n",
    "db = mongo['player2_weather']\n",
    "charleston_air = db['charleston_air']\n",
    "endpoint = 'https://api.stormglass.io/v2/weather/point'\n",
    "params = {\n",
    "            'lat': 26.443398,\n",
    "            'lng': -82.111511,\n",
    "            'params': 'airTemperature',\n",
    "            'start': '2023-09-23',\n",
    "            'end': '2023-09-30'\n",
    "            \n",
    "        }\n",
    "headers = {\n",
    "        'Authorization': stormglass_api_key\n",
    "    }\n",
    "response = requests.get(endpoint, params=params, headers=headers)\n",
    "response.raise_for_status()\n",
    "data = response.json()\n",
    "sanibel_air.insert_one(data)\n",
    "if sanibel_air.count_documents({}) > 0:\n",
    "    print(\"Data inserted into sanibel_data collection.\")\n",
    "else:\n",
    "    print(\"Failed to insert data.\")\n"
   ]
  },
  {
   "cell_type": "code",
   "execution_count": null,
   "id": "4d6395b6",
   "metadata": {},
   "outputs": [],
   "source": [
    "data = sanibel_air.find()\n",
    "for document in data:\n",
    "    pprint(document)"
   ]
  },
  {
   "cell_type": "code",
   "execution_count": null,
   "id": "c764aa03",
   "metadata": {},
   "outputs": [],
   "source": [
    "data = list(sanibel_air.find())\n",
    "pprint(data)\n",
    "json_data = json.dumps(data, default=str)\n",
    "with open('Resources/sanibel_air.json', 'w') as json_file:\n",
    "    json_file.write(json_data)"
   ]
  },
  {
   "cell_type": "code",
   "execution_count": null,
   "id": "e3091f7d",
   "metadata": {},
   "outputs": [],
   "source": [
    "mongo = MongoClient('mongodb://localhost:27017')\n",
    "db = mongo['player2_weather']\n",
    "charleston_air = db['charleston_air']\n",
    "endpoint = 'https://api.stormglass.io/v2/weather/point'\n",
    "params = {\n",
    "            'lat': 32.7765,\n",
    "            'lng': -79.93092,\n",
    "            'params': 'airTemperature',\n",
    "            'start': '2023-09-23',\n",
    "            'end': '2023-09-30'\n",
    "            \n",
    "        }\n",
    "headers = {\n",
    "        'Authorization': stormglass_api_key\n",
    "    }\n",
    "response = requests.get(endpoint, params=params, headers=headers)\n",
    "response.raise_for_status()\n",
    "data = response.json()\n",
    "charleston_air.insert_one(data)\n",
    "if charleston_air.count_documents({}) > 0:\n",
    "    print(\"Data inserted into charleston collection.\")\n",
    "else:\n",
    "    print(\"Failed to insert data.\")"
   ]
  },
  {
   "cell_type": "code",
   "execution_count": null,
   "id": "49dbf744",
   "metadata": {},
   "outputs": [],
   "source": [
    "data = charleston_air.find()\n",
    "for document in data:\n",
    "    pprint(document)"
   ]
  },
  {
   "cell_type": "code",
   "execution_count": null,
   "id": "e46379db",
   "metadata": {},
   "outputs": [],
   "source": [
    "data = list(charleston_air.find())\n",
    "pprint(data)\n",
    "json_data = json.dumps(data, default=str)\n",
    "with open('Resources/charleston_air.json', 'w') as json_file:\n",
    "    json_file.write(json_data)"
   ]
  },
  {
   "cell_type": "code",
   "execution_count": null,
   "id": "b134d54b",
   "metadata": {},
   "outputs": [],
   "source": [
    "data = charleston_air.find()\n",
    "for document in data:\n",
    "    pprint(document) "
   ]
  },
  {
   "cell_type": "code",
   "execution_count": null,
   "id": "ac4818f2",
   "metadata": {},
   "outputs": [],
   "source": [
    "data = charleston_air.find_one({}, {\"_id\": 0, \"hours\": 1})['hours']\n",
    "csv_file = 'Resources/chairtemps.csv'\n",
    "fields = ['time', 'airTemperature.noaa', 'airTemperature.sg']\n",
    "with open(csv_file, 'w', newline='') as csvfile:\n",
    "    writer = csv.writer(csvfile)\n",
    "    writer.writerow(fields)\n",
    "    \n",
    "    for entry in data:\n",
    "        row_data = [\n",
    "            entry['time'],\n",
    "            entry['airTemperature']['noaa'],\n",
    "            entry['airTemperature']['sg']\n",
    "        ]\n",
    "        writer.writerow(row_data)"
   ]
  },
  {
   "cell_type": "code",
   "execution_count": null,
   "id": "ca5150ed",
   "metadata": {},
   "outputs": [],
   "source": [
    "data = sanibel_air.find_one({}, {\"_id\": 0, \"hours\": 1})['hours']\n",
    "csv_file = 'Resources/sanibelairtemps.csv'\n",
    "fields = ['time', 'airTemperature.noaa', 'airTemperature.sg']\n",
    "with open(csv_file, 'w', newline='') as csvfile:\n",
    "    writer = csv.writer(csvfile)\n",
    "    writer.writerow(fields)\n",
    "    \n",
    "    for entry in data:\n",
    "        row_data = [\n",
    "            entry['time'],\n",
    "            entry['airTemperature']['noaa'],\n",
    "            entry['airTemperature']['sg']\n",
    "        ]\n",
    "        writer.writerow(row_data)"
   ]
  },
  {
   "cell_type": "code",
   "execution_count": null,
   "id": "db7eac26",
   "metadata": {},
   "outputs": [],
   "source": []
  }
 ],
 "metadata": {
  "kernelspec": {
   "display_name": "Python 3 (ipykernel)",
   "language": "python",
   "name": "python3"
  },
  "language_info": {
   "codemirror_mode": {
    "name": "ipython",
    "version": 3
   },
   "file_extension": ".py",
   "mimetype": "text/x-python",
   "name": "python",
   "nbconvert_exporter": "python",
   "pygments_lexer": "ipython3",
   "version": "3.10.13"
  }
 },
 "nbformat": 4,
 "nbformat_minor": 5
}
