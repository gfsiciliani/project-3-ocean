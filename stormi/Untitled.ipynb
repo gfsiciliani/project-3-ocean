{
 "cells": [
  {
   "cell_type": "code",
   "execution_count": 13,
   "id": "eb59d6a6",
   "metadata": {},
   "outputs": [],
   "source": [
    "from sqlalchemy import create_engine, Table, Column, Integer, String, Float\n",
    "from sqlalchemy.ext.declarative import declarative_base\n",
    "from sqlalchemy.orm import sessionmaker, declarative_base\n",
    "import requests\n",
    "import pandas as pd\n",
    "from flask import Flask, request, jsonify"
   ]
  },
  {
   "cell_type": "code",
   "execution_count": 14,
   "id": "6bf98a62",
   "metadata": {},
   "outputs": [],
   "source": [
    "Base = declarative_base()"
   ]
  },
  {
   "cell_type": "code",
   "execution_count": 15,
   "id": "72b5b3bc",
   "metadata": {},
   "outputs": [],
   "source": [
    "class SanibelAirTempData(Base):\n",
    "    __tablename__ = 'sanibel_air_temp'\n",
    "    id = Column(Integer, primary_key=True)\n",
    "    data = Column(String)"
   ]
  },
  {
   "cell_type": "code",
   "execution_count": 16,
   "id": "bbf78158",
   "metadata": {},
   "outputs": [],
   "source": [
    "engine = create_engine('sqlite:///sanibel_air_temp.db')\n",
    "Session = sessionmaker(bind = engine)\n",
    "session = Session()\n"
   ]
  },
  {
   "cell_type": "code",
   "execution_count": null,
   "id": "93c372a0",
   "metadata": {},
   "outputs": [],
   "source": [
    "response"
   ]
  }
 ],
 "metadata": {
  "kernelspec": {
   "display_name": "Python 3 (ipykernel)",
   "language": "python",
   "name": "python3"
  },
  "language_info": {
   "codemirror_mode": {
    "name": "ipython",
    "version": 3
   },
   "file_extension": ".py",
   "mimetype": "text/x-python",
   "name": "python",
   "nbconvert_exporter": "python",
   "pygments_lexer": "ipython3",
   "version": "3.11.5"
  }
 },
 "nbformat": 4,
 "nbformat_minor": 5
}
